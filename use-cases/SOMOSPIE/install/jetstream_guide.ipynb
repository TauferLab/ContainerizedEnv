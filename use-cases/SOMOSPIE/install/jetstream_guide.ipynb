{
 "cells": [
  {
   "cell_type": "markdown",
   "metadata": {},
   "source": [
    "# Jetstream Instructions\n",
    "## Setting up a virtual machine and opening Jupyter"
   ]
  },
  {
   "cell_type": "markdown",
   "metadata": {},
   "source": [
    "### Let's make an XSEDE account!\n",
    "\n",
    "* Go to https://portal.xsede.org.  \n",
    "* Click the blue \"Create Account\" button on the left.  \n",
    "* Once the \"Create an XSEDE User Portal account\" page loads, follow the instructions.\n",
    "* After you have created an account, submit your XSEDE username to https://docs.google.com/forms/d/1X_x_TOxmfzSF4opOJHIGHz88rGfGBtuzWt9ioW12xwY/edit.\n",
    "* You will be notified once you've been added; _you'll not be able to proceed with these instructions until you have been added._"
   ]
  },
  {
   "cell_type": "markdown",
   "metadata": {},
   "source": [
    "### Let's log in to Jetstream!  \n",
    "\n",
    "* Go to https://use.jetstream-cloud.org.  \n",
    "* Click \"Login\" in upper-right corner.  \n",
    "* Selecte XSEDE from the drop-down menu and click the blue \"Continue\" button.  \n",
    "* Enter XSEDE credentials and click the \"SIGN IN\" button.  "
   ]
  },
  {
   "cell_type": "markdown",
   "metadata": {},
   "source": [
    "## Let's create a Jetstream project!  \n",
    "\n",
    "You sould now be logged into Jetstream.  \n",
    "* Click \"Projects\" tab.  \n",
    "* Click pink \"CREATE NEW PROJECT\" button.  \n",
    "* Enter \"BigDataAnalytics\" under \"Project Name\" and click the pink \"CREATE\" button.  \n",
    "![project-create](images/project-create-A.png)"
   ]
  },
  {
   "cell_type": "markdown",
   "metadata": {},
   "source": [
    "### Let's create a Jetstream virtual machine (VM)!  \n",
    "\n",
    "You should now be in the Jetstream project page.  \n",
    "* Click on the project where you want your VM.  \n",
    "* Now click the pink \"NEW\" button, and select \"Instance\" from the drop-down menu that appears.  \n",
    "\n",
    "![project-newVM](images/project-newVM0-A.png)  \n",
    "\n",
    "* Under \"First choose an image for your instance\", select \"Show All\" and search for \"Spark\". Then select \"Ubuntu 18.04 with Spark\". \n",
    "\n",
    "![project-newVM1](images/project-newVM1-A.png)\n",
    "\n",
    "* The \"Launch and Instance / Basic Options\" form should appear.  \n",
    "* Under \"Basic Info\" type your netid for the \"Instance Name\".  \n",
    "* Under \"Resources\", make sure **TG-TRA200041** is selected for the \"Allocation Source\".  \n",
    "**IMPORTANT:** Do not launch more than one virtual machine with this Allocation Source; we only have enough VMs for each person in the course to have one!  \n",
    "* Under \"Instance Size\", make sure **m1.medium** (CPU: 6, Mem: 16 GB, Disk: 60 GB) is selected for \"Instance Size\".  \n",
    "**IMPORTANT:** Anything smaller than m1.medium cannot fit Jupyter, anything bigger takes more than your share of our allocation.  \n",
    "* Click the pink \"LAUNCH INSTANCE\" button.  \n",
    "\n",
    "![project-newVM2](images/project-newVM2-A.png)\n",
    "\n",
    "* A spinning blue ring icon will appear next to the text \"LAUNCHING ...\"; wait.  "
   ]
  },
  {
   "cell_type": "markdown",
   "metadata": {},
   "source": [
    "### Let's access your virtual machine (VM)!  \n",
    "\n",
    "You should be in the page for the specific jetstream project.  \n",
    "* Look for your VM listed under \"Instances\".  \n",
    "* Click on the name of the VM, a blue, underlined hyperlink.  \n",
    "\n",
    "![project-VM1](images/project-VM1-A.png)\n",
    "\n",
    "* If the \"Status\" has a grey circle, click \"Resume\"/\"Start\"/\"Unshelve\" under \"Actions\" on the right, then the pink \"YES, ____ THIS INSTANCE\" button that pops up.  \n",
    "\n",
    "![VM-launch-gray](images/VM-launch-gray2-A.png)\n",
    "\n",
    "* If the \"Status\" has a yellow circle, wait.  \n",
    "  - If the \"Status\" has a yellow circle and the \"Activity\" hasn't changed in 20 minutes, you can try the \"Reboot\" option under the \"Actions\" on the right.  \n",
    "\n",
    "![VM-launch-yellow](images/VM-launch-yellow-A1.png)\n",
    "\n",
    "* Once \"Status\" has a green circle, you are ready to connect to your VM.  \n",
    "* Click \"Open Web Shell\" under \"Links\" on the right; this should open a new tab with a green-text, black-background command-line interface.  \n",
    "\n",
    "![VM-launch-green](images/VM-launch-green-A.png)\n"
   ]
  },
  {
   "cell_type": "markdown",
   "metadata": {},
   "source": [
    "### Let's install Jupyter on your VM!  \n",
    "\n",
    "You should be in the green-text, black-background command-line interface.  \n",
    "\n",
    "* Type `ezj` and press ENTER.  \n",
    "\n",
    "![VM-cl-ezj0](images/VM-cli-ezj0-A.png)\n",
    "\n",
    "* Python3-dependent anaconda and jupyter will install, but it will take several minutes.  \n",
    "* When installation has finished a, jupyter notebook will automatically launch; press CTRL+C twice to cancel.  "
   ]
  },
  {
   "cell_type": "markdown",
   "metadata": {},
   "source": [
    "### Let's clone the class repository to your VM!  \n",
    "\n",
    "You should be in the green-text, black-background command-line interface (CLI).\n",
    "\n",
    "* (If you want the repo somewhere other than your home directory, `cd` to the desired location.)  \n",
    "* Type `git clone  https://github.com/CISC879-BigData/courses-UTK-COSC526-S21` and press ENTER  \n",
    "* You should be prompted to enter your GitHub credentials.  \n",
    "NOTE: If you wish to paste text into Jetstream's web-browser CLI:  \n",
    "  - Press CTRL+ALT+SHIFT to open the grey control panel on the left;  \n",
    "  - Paste the text within the Clipboard box;  \n",
    "  - Press CTRL+ALT+SHIFT to close the control panel;  \n",
    "  - Press CTRL+SHIFT+V to paste.   "
   ]
  },
  {
   "cell_type": "markdown",
   "metadata": {},
   "source": [
    "### Let's open a Jupyter notebook!  \n",
    "\n",
    "You should be in the green-text, black-background command-line interface (CLI).\n",
    "\n",
    "* Type `ezj` and press ENTER.  \n",
    "* There will be a URL you can copy/paste to access the notebook.  \n",
    "NOTE: Do not launch with `jupyter notebook`, or it will launch under `localhost:8888` and you won't be able to access it.  \n",
    "\n",
    "![VM-cli-ezj3](images/VM-cli-ezj3-A.png)\n",
    "\n",
    "* Highlight the URL with your mouse, then use CTRL+ALT+SHIFT to open the grey control panel.  \n",
    "* Copy the url from the Clipboard box.  \n",
    "\n",
    "![VM-jn0](images/VM-jn0-A.png)\n",
    "\n",
    "* Open a new tab, paste the URL into the address bar, and press ENTER.  \n",
    "* You should now be in a Jupyter notebook on your VM.  \n",
    "\n",
    "![VM-jn1](images/VM-jn1.png)"
   ]
  },
  {
   "cell_type": "markdown",
   "metadata": {},
   "source": [
    "### Let's close out everything!\n",
    "  \n",
    "If you are in the Jupyter notebook menu:  \n",
    " * Click the \"Logout\" button in the upper-right corner;  \n",
    " * Close the tab.  \n",
    "\n",
    "If you are in the CLI:  \n",
    " * If Jupyter is running, press CTRL+C twice in succession;  \n",
    " * If nothing is running, type `exit` and press ENTER;  \n",
    " \n",
    "![VM-exit0](images/VM-exit0-A.png)\n",
    " \n",
    " * When a \"DISCONNECTED\" notice appears, click \"Logout\";  \n",
    " * Close the tab.  \n",
    "\n",
    "If you are in your VM window in Jetstream:  \n",
    " * Click \"Shelve\" under \"Actions\" on the right; \n",
    " * In the \"Shelve Instance\" box that pops up, click the pink \"YES, SHELVE THIS INSTANCE\" button;   \n",
    " \n",
    "![VM-exit2](images/VM-exit4-A.png)\n",
    " \n",
    " * The \"Status\" should have a yellow circle and the \"Activity\" should say \"Shelving\";   \n",
    " * You may now log out, but if you wait a while the \"Status\" should become \"Shelved_offloaded\" with a grey circle.  \n",
    "\n",
    "**IMPORTANT: You MUST shelve your VM when you are not using it, or else you will use up our limited compute-time resources.** (Shelved units are deleted after 6 months.)"
   ]
  },
  {
   "cell_type": "markdown",
   "metadata": {},
   "source": [
    "### (_OPTIONAL_) Let's learn to SSH to your VM (and so avoid the awkward web UI)\n",
    "  \n",
    "First, follow the instructions for adding your SSH keys to your Jetstream account: https://iujetstream.atlassian.net/wiki/spaces/JWT/pages/17465474/Adding+SSH+keys+to+the+Jetstream+Atmosphere+environment\n",
    "\n",
    "Then, follow the instructions for logging in to a VM via SSH: https://iujetstream.atlassian.net/wiki/spaces/JWT/pages/17465502/Logging+in+with+SSH"
   ]
  },
  {
   "cell_type": "code",
   "execution_count": null,
   "metadata": {},
   "outputs": [],
   "source": []
  }
 ],
 "metadata": {
  "kernelspec": {
   "display_name": "Python 3",
   "language": "python",
   "name": "python3"
  },
  "language_info": {
   "codemirror_mode": {
    "name": "ipython",
    "version": 3
   },
   "file_extension": ".py",
   "mimetype": "text/x-python",
   "name": "python",
   "nbconvert_exporter": "python",
   "pygments_lexer": "ipython3",
   "version": "3.8.3"
  }
 },
 "nbformat": 4,
 "nbformat_minor": 2
}
