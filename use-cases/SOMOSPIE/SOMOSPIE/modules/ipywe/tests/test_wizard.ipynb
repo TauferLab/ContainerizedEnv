{
 "cells": [
  {
   "cell_type": "code",
   "execution_count": null,
   "metadata": {},
   "outputs": [],
   "source": [
    "import sys, os\n",
    "sys.path.insert(0, os.path.abspath('..'))\n",
    "import ipywe.wizard as wiz\n",
    "import ipywidgets as ipyw\n",
    "from __future__ import print_function"
   ]
  },
  {
   "cell_type": "code",
   "execution_count": null,
   "metadata": {},
   "outputs": [],
   "source": [
    "class Step1(wiz.Step):\n",
    "    \n",
    "    def createBody(self):\n",
    "        self.text = text = ipyw.Text(description=\"sample\", place_holder='sample name')\n",
    "        return text\n",
    "    \n",
    "    def validate(self):\n",
    "        text = self.text.value\n",
    "        # check user input\n",
    "        if not text:\n",
    "            wiz.js_alert(\"Please input the sample name\")\n",
    "            return False\n",
    "        self.context.text = text # save user input\n",
    "        return True\n",
    "        \n",
    "    def createNextStep(self):\n",
    "        return Step2(self.context)\n",
    "\n",
    "    \n",
    "class Step2(wiz.Step):\n",
    "    \n",
    "    def createBody(self):\n",
    "        self.select = select = ipyw.IntSlider(description=\"counts\", value=1, min=0, max=10)\n",
    "        return select\n",
    "    \n",
    "    def validate(self):\n",
    "        v = self.select.value\n",
    "        self.context.counts = v\n",
    "        return True\n",
    "    \n",
    "    def createNextStep(self):\n",
    "        return"
   ]
  },
  {
   "cell_type": "code",
   "execution_count": null,
   "metadata": {},
   "outputs": [],
   "source": [
    "context=wiz.Context()\n",
    "step1 = Step1(context)"
   ]
  },
  {
   "cell_type": "code",
   "execution_count": null,
   "metadata": {},
   "outputs": [],
   "source": [
    "step1.show()"
   ]
  },
  {
   "cell_type": "code",
   "execution_count": null,
   "metadata": {},
   "outputs": [],
   "source": [
    "print(context.text)\n",
    "print(context.counts)"
   ]
  },
  {
   "cell_type": "code",
   "execution_count": null,
   "metadata": {},
   "outputs": [],
   "source": []
  }
 ],
 "metadata": {
  "kernelspec": {
   "display_name": "Python 2",
   "language": "python",
   "name": "python2"
  },
  "language_info": {
   "codemirror_mode": {
    "name": "ipython",
    "version": 3
   },
   "file_extension": ".py",
   "mimetype": "text/x-python",
   "name": "python",
   "nbconvert_exporter": "python",
   "pygments_lexer": "ipython3",
   "version": "3.6.4"
  }
 },
 "nbformat": 4,
 "nbformat_minor": 2
}
